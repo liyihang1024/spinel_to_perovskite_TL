{
 "cells": [
  {
   "cell_type": "code",
   "execution_count": null,
   "metadata": {},
   "outputs": [],
   "source": [
    "import numpy as np\n",
    "import pandas as pd\n",
    "import matplotlib.pyplot as plt\n",
    "from sklearn.utils import shuffle\n",
    "from sklearn.metrics import mean_squared_error, r2_score, mean_absolute_error\n",
    "from sklearn.model_selection import train_test_split, GridSearchCV, KFold\n",
    "from sklearn.model_selection import cross_val_score,cross_val_predict,cross_validate\n",
    "from sklearn.preprocessing import MinMaxScaler\n",
    "from sklearn.metrics import explained_variance_score\n",
    "\n",
    "import keras\n",
    "from keras import backend as K\n",
    "from keras import regularizers\n",
    "from keras.models import Sequential\n",
    "from keras.models import save_model, load_model\n",
    "from keras.layers import Dense, Dropout, Activation\n",
    "from keras.callbacks import ModelCheckpoint, ReduceLROnPlateau"
   ]
  },
  {
   "cell_type": "code",
   "execution_count": null,
   "metadata": {},
   "outputs": [],
   "source": [
    "params = {'font.family'    : 'serif',  # 衬线字体族\n",
    "          'font.serif'     : 'Times New Roman',\n",
    "          'legend.fontsize': 20,\n",
    "          'figure.dpi'     : 100,\n",
    "          'savefig.dpi'    : 600,\n",
    "        #   'figure.figsize' : (15, 5),\n",
    "          'axes.labelsize' : 20,\n",
    "          'axes.titlesize' : 20,\n",
    "          'xtick.labelsize': 20,\n",
    "          'ytick.labelsize': 20,\n",
    "          }\n",
    "plt.rcParams.update(params)"
   ]
  },
  {
   "cell_type": "code",
   "execution_count": null,
   "metadata": {},
   "outputs": [],
   "source": [
    "data = pd.read_excel(\"FE_trainData_AB_AB.xlsx\", index_col=0, header=0)\n",
    "\n",
    "x = data.iloc[:, :-1]\n",
    "y = data.iloc[:, -1]\n",
    "x_train_dim = x.shape[1]\n",
    "\n",
    "x = MinMaxScaler().fit_transform(x)\n",
    "y = np.array(y)\n",
    "\n",
    "# x_train, x_test, y_train, y_test = train_test_split(x, y, test_size=0.1)"
   ]
  },
  {
   "cell_type": "code",
   "execution_count": null,
   "metadata": {},
   "outputs": [],
   "source": [
    "def rmse(y_true, y_pred):\n",
    "\t\"\"\"自定义损失函数RMSE\"\"\"\n",
    "\trmse = K.sqrt(K.mean(K.square(y_pred - y_true)))\n",
    "\treturn rmse\n",
    "\n",
    "def r_square(y_true, y_pred):\n",
    "\t\"\"\"自定义评估函数R2\"\"\"\n",
    "\tRSS = K.sum(K.square(y_true - y_pred))\n",
    "\tTSS = K.sum(K.square(y_true-K.mean(y_true)))\n",
    "\tr_square = 1 - RSS/TSS\n",
    "\treturn r_square"
   ]
  },
  {
   "cell_type": "code",
   "execution_count": null,
   "metadata": {},
   "outputs": [],
   "source": [
    "model_source_domin = load_model('0_best_model.h5', custom_objects={'rmse':rmse, 'r_square':r_square})\n",
    "\n",
    "# 模型预测\n",
    "y_pred = model_source_domin.predict(x)\n",
    "\n",
    "# 保存每一次交叉验证的预测结果\n",
    "y_pred = y_pred.reshape(-1)\n",
    "pred_data = pd.DataFrame({\"y\":y,\"y_pred\":y_pred})\n",
    "pred_data.to_excel(\"pred_data.xlsx\")\n",
    "\n",
    "# 预测得分\n",
    "train_R2 = r2_score(y, y_pred)\n",
    "train_RMSE = np.sqrt(mean_squared_error(y, y_pred))\n",
    "train_MAE = mean_absolute_error(y, y_pred)\n",
    "\n",
    "print('R2:', train_R2, 'RMSE:', train_RMSE, 'MAE', train_MAE)\n",
    "\n",
    "# 绘制model预测结果散点图\n",
    "fig, ax = plt.subplots(nrows=1, ncols=1, figsize=(6, 5), constrained_layout=True)\n",
    "fig.patch.set_alpha(1)  # 设置绘图背景不透明\n",
    "plt.scatter(y, y_pred, c='y', s=50, alpha=0.5, label='train set')\n",
    "plt.plot([-4, 0.2],[-4, 0.2], c='k', linewidth=1)\n",
    "plt.axis([-4, 0.2,-4, 0.2])\n",
    "plt.xlabel('DFT')\n",
    "plt.ylabel('ANN')\n",
    "plt.legend(loc='upper left', framealpha=0, markerscale=1.5)\n",
    "# 在图中绘制表格\n",
    "# train_R2   = \"{:.2f}\".format(train_R2)\n",
    "# train_RMSE = \"{:.4f}\".format(train_RMSE)\n",
    "# train_MAE  = \"{:.4f}\".format(train_MAE)\n",
    "\n",
    "# row_labels = [r'$R^2$','RMSE','MAE']\n",
    "# col_labels = ['Train']\n",
    "# table_vals = [[train_R2, test_R2],[train_RMSE, test_RMSE] ,[train_MAE, test_MAE]]\n",
    "# table = plt.table(cellText=table_vals, \n",
    "#                 rowLabels=row_labels, \n",
    "#                 colLabels=col_labels,\n",
    "#                 colWidths=[0.2]*3,\n",
    "#                 cellLoc='center', \n",
    "#                 rowLoc='center', \n",
    "#                 colLoc='center',\n",
    "#                 loc='lower right',\n",
    "#                 )\n",
    "# table.set_fontsize(16) # 表格字体大小\n",
    "# table.scale(1, 1.8)    # 表格缩放\n",
    "plt.savefig('result.png')\n",
    "\n"
   ]
  },
  {
   "cell_type": "code",
   "execution_count": null,
   "metadata": {},
   "outputs": [],
   "source": [
    "for i in range(10):\n",
    "    model_source_domin = load_model('{}_best_model.h5'.format(i), custom_objects={'rmse':rmse, 'r_square':r_square})\n",
    "\n",
    "    # 模型预测\n",
    "    y_pred = model_source_domin.predict(x)\n",
    "\n",
    "    # 保存每一次交叉验证的预测结果\n",
    "    y_pred = y_pred.reshape(-1)\n",
    "    pred_data = pd.DataFrame({\"y\":y,\"y_pred\":y_pred})\n",
    "    pred_data.to_excel(\"pred_data.xlsx\")\n",
    "\n",
    "    # 预测得分\n",
    "    train_R2 = r2_score(y, y_pred)\n",
    "    train_RMSE = np.sqrt(mean_squared_error(y, y_pred))\n",
    "    train_MAE = mean_absolute_error(y, y_pred)\n",
    "\n",
    "    print('R2:', train_R2, 'RMSE:', train_RMSE, 'MAE', train_MAE)"
   ]
  },
  {
   "cell_type": "code",
   "execution_count": null,
   "metadata": {},
   "outputs": [],
   "source": []
  }
 ],
 "metadata": {
  "interpreter": {
   "hash": "7c33a13e87ff2ca5ca34b26e4f5be8fc0369394a1c92123d92e1f37cab1bd527"
  },
  "kernelspec": {
   "display_name": "Python 3.7.10 64-bit ('keras': conda)",
   "name": "python3"
  },
  "language_info": {
   "codemirror_mode": {
    "name": "ipython",
    "version": 3
   },
   "file_extension": ".py",
   "mimetype": "text/x-python",
   "name": "python",
   "nbconvert_exporter": "python",
   "pygments_lexer": "ipython3",
   "version": "3.7.10"
  },
  "orig_nbformat": 4
 },
 "nbformat": 4,
 "nbformat_minor": 2
}
